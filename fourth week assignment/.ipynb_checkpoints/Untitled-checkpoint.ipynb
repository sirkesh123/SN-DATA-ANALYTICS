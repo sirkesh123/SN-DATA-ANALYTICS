{
 "cells": [
  {
   "cell_type": "markdown",
   "id": "3e11540e",
   "metadata": {},
   "source": [
    "first assignment"
   ]
  },
  {
   "cell_type": "markdown",
   "id": "f2aca54c",
   "metadata": {},
   "source": [
    "Questions\n",
    "Write a simple statement to implement the usage of each of the following dictionary methods\n",
    "fromkeys()\tReturns a dictionary with the specified keys and value\n",
    "get()\tReturns the value of the specified key\n",
    "items()\tReturns a list containing a tuple for each key value pair\n",
    "keys()\tReturns a list containing the dictionary's keys\n",
    "pop()\tRemoves the element with the specified key\n",
    "popitem()\tRemoves the last inserted key-value pair\n",
    "setdefault()\tReturns the value of the specified key. If the key does not exist: insert the key, with the specified value\n",
    "update()\tUpdates the dictionary with the specified key-value pairs\n",
    "values()\tReturns a list of all the values in the dictionary"
   ]
  },
  {
   "cell_type": "code",
   "execution_count": 8,
   "id": "9dac47ce",
   "metadata": {},
   "outputs": [
    {
     "name": "stdout",
     "output_type": "stream",
     "text": [
      "{'White': 2, 'Gold': 2, 'Red': 2, 'Blue': 2, 'Green': 2}\n"
     ]
    }
   ],
   "source": [
    "#from keys\n",
    "colours =  {'Red', 'Blue', 'Green', 'White', 'Gold'}\n",
    "numbers = 2\n",
    "colour = dict.fromkeys(colours, numbers)\n",
    "\n",
    "print(colour)\n"
   ]
  },
  {
   "cell_type": "code",
   "execution_count": 9,
   "id": "91356173",
   "metadata": {},
   "outputs": [
    {
     "name": "stdout",
     "output_type": "stream",
     "text": [
      "Satellite\n"
     ]
    }
   ],
   "source": [
    "#get\n",
    "laptops = {\n",
    "  \"brand\": \"Toshiba\",\n",
    "  \"model\": \"Satellite\",\n",
    "  \"year\": 2015\n",
    "}\n",
    "\n",
    "Model = laptops.get(\"model\")\n",
    "\n",
    "print(Model)"
   ]
  },
  {
   "cell_type": "code",
   "execution_count": 11,
   "id": "d017a9ba",
   "metadata": {},
   "outputs": [
    {
     "name": "stdout",
     "output_type": "stream",
     "text": [
      "dict_items([('brand', 'Toshiba'), ('model', 'Satellite'), ('year', 2015)])\n"
     ]
    }
   ],
   "source": [
    "#items\n",
    "laptops = {\n",
    "  \"brand\": \"Toshiba\",\n",
    "  \"model\": \"Satellite\",\n",
    "  \"year\": 2015\n",
    "}\n",
    "\n",
    "Model = laptops.items()\n",
    "\n",
    "print(Model)"
   ]
  },
  {
   "cell_type": "code",
   "execution_count": 12,
   "id": "5fdf01a7",
   "metadata": {},
   "outputs": [
    {
     "name": "stdout",
     "output_type": "stream",
     "text": [
      "dict_keys(['brand', 'model', 'year'])\n"
     ]
    }
   ],
   "source": [
    "#keys\n",
    "laptops = {\n",
    "  \"brand\": \"Toshiba\",\n",
    "  \"model\": \"Satellite\",\n",
    "  \"year\": 2015\n",
    "}\n",
    "\n",
    "Model = laptops.keys()\n",
    "\n",
    "print(Model)"
   ]
  },
  {
   "cell_type": "code",
   "execution_count": 14,
   "id": "46ef4313",
   "metadata": {},
   "outputs": [
    {
     "name": "stdout",
     "output_type": "stream",
     "text": [
      "{'brand': 'Toshiba', 'year': 2015}\n"
     ]
    }
   ],
   "source": [
    "#pop\n",
    "laptops = {\n",
    "  \"brand\": \"Toshiba\",\n",
    "  \"model\": \"Satellite\",\n",
    "  \"year\": 2015\n",
    "}\n",
    "\n",
    "laptops.pop(\"model\")\n",
    "\n",
    "print(laptops)"
   ]
  },
  {
   "cell_type": "code",
   "execution_count": 17,
   "id": "b6c4a75a",
   "metadata": {},
   "outputs": [
    {
     "name": "stdout",
     "output_type": "stream",
     "text": [
      "{'brand': 'Toshiba', 'model': 'Satellite'}\n"
     ]
    }
   ],
   "source": [
    "#popitem\n",
    "laptops = {\n",
    "  \"brand\": \"Toshiba\",\n",
    "  \"model\": \"Satellite\",\n",
    "  \"year\": 2015\n",
    "}\n",
    "\n",
    "laptops.popitem()\n",
    "\n",
    "print(laptops)"
   ]
  },
  {
   "cell_type": "code",
   "execution_count": 20,
   "id": "6cab7aa5",
   "metadata": {},
   "outputs": [
    {
     "name": "stdout",
     "output_type": "stream",
     "text": [
      "Toshiba\n"
     ]
    }
   ],
   "source": [
    "#setdefault\n",
    "laptops = {\n",
    "  \"brand\": \"Toshiba\",\n",
    "  \"model\": \"Satellite\",\n",
    "  \"year\": 2015\n",
    "}\n",
    "\n",
    "laptop = laptops.setdefault(\"brand\" , \"HP\")\n",
    "\n",
    "print(laptop)"
   ]
  },
  {
   "cell_type": "code",
   "execution_count": 23,
   "id": "1f1f4841",
   "metadata": {},
   "outputs": [
    {
     "name": "stdout",
     "output_type": "stream",
     "text": [
      "{'brand': 'Toshiba', 'model': 'Satellite', 'year': 2015, 'Colour': 'White'}\n"
     ]
    }
   ],
   "source": [
    "#update\n",
    "laptops = {\n",
    "  \"brand\": \"Toshiba\",\n",
    "  \"model\": \"Satellite\",\n",
    "  \"year\": 2015\n",
    "}\n",
    "\n",
    "laptops.update({\"Colour\": \"White\"})\n",
    "\n",
    "print(laptops)"
   ]
  },
  {
   "cell_type": "code",
   "execution_count": 24,
   "id": "6f2535ef",
   "metadata": {},
   "outputs": [
    {
     "name": "stdout",
     "output_type": "stream",
     "text": [
      "dict_values(['Toshiba', 'Satellite', 2015])\n"
     ]
    }
   ],
   "source": [
    "#values\n",
    "laptops = {\n",
    "  \"brand\": \"Toshiba\",\n",
    "  \"model\": \"Satellite\",\n",
    "  \"year\": 2015\n",
    "}\n",
    "\n",
    "laptop = laptops.values()\n",
    "\n",
    "print(laptop)"
   ]
  },
  {
   "cell_type": "code",
   "execution_count": null,
   "id": "b93889fa",
   "metadata": {},
   "outputs": [],
   "source": []
  }
 ],
 "metadata": {
  "kernelspec": {
   "display_name": "Python 3",
   "language": "python",
   "name": "python3"
  },
  "language_info": {
   "codemirror_mode": {
    "name": "ipython",
    "version": 3
   },
   "file_extension": ".py",
   "mimetype": "text/x-python",
   "name": "python",
   "nbconvert_exporter": "python",
   "pygments_lexer": "ipython3",
   "version": "3.8.8"
  }
 },
 "nbformat": 4,
 "nbformat_minor": 5
}
