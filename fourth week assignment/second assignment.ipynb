{
 "cells": [
  {
   "cell_type": "markdown",
   "id": "9a5de053",
   "metadata": {},
   "source": [
    "second assignment"
   ]
  },
  {
   "cell_type": "markdown",
   "id": "d6f4c644",
   "metadata": {},
   "source": [
    "Question\n",
    "Write a program that append items in apple list to fruit list using append method."
   ]
  },
  {
   "cell_type": "code",
   "execution_count": 5,
   "id": "d0ab90ce",
   "metadata": {},
   "outputs": [
    {
     "name": "stdout",
     "output_type": "stream",
     "text": [
      "['apple', 'banana', 'cherry', 'orange, pineapple']\n"
     ]
    }
   ],
   "source": [
    "fruits = ['apple', 'banana', 'cherry']\n",
    "fruits.append('orange' \", \" 'pineapple')\n",
    "print (fruits)"
   ]
  },
  {
   "cell_type": "code",
   "execution_count": null,
   "id": "e973268d",
   "metadata": {},
   "outputs": [],
   "source": []
  }
 ],
 "metadata": {
  "kernelspec": {
   "display_name": "Python 3",
   "language": "python",
   "name": "python3"
  },
  "language_info": {
   "codemirror_mode": {
    "name": "ipython",
    "version": 3
   },
   "file_extension": ".py",
   "mimetype": "text/x-python",
   "name": "python",
   "nbconvert_exporter": "python",
   "pygments_lexer": "ipython3",
   "version": "3.8.8"
  }
 },
 "nbformat": 4,
 "nbformat_minor": 5
}
