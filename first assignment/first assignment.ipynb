{
 "cells": [
  {
   "cell_type": "markdown",
   "id": "1c1c63ea",
   "metadata": {},
   "source": [
    "first assignment"
   ]
  },
  {
   "cell_type": "markdown",
   "id": "fb784bdd",
   "metadata": {},
   "source": [
    " Step 1\n",
    " i registerd in on git hub.\n",
    " \n",
    " Step 2\n",
    " i created repository and folder on git.\n",
    " \n",
    " Step 3\n",
    " i downloaded git bash and anaconda pyton.\n",
    " \n",
    " Step 4\n",
    " i clone my repository to my desktop using git bash.\n",
    " \n",
    " step 5\n",
    " i added new folder and create a new file called first assignment in the new folder.\n",
    " \n",
    " Step 6\n",
    " i push the folder to git.\n",
    " \n",
    " Step 7\n",
    " i reloaded my git to see the changes.\n",
    " \n",
    " The problems i faced\n",
    " 1. i dont have a laptop so i decide to use my phone and i was able to clone my git account to my phone but i cant push it back to my git account. although there is a way of doing it i try it with my phone its says successful but i did not see the changes in my git account.\n",
    " 2. problem of consuming too much of data on my laptop.\n",
    " 3. i am a working class person, i dont have much time to spend on git and online. i work from 7am to 8pm and i use my weekend to rest if am not at work again.\n",
    " \n",
    " \n",
    " Solutions\n",
    " with God grace i was able to do this.\n",
    " Am so sorry its coming late. \n",
    " \n",
    " \n",
    " signed by EWETOYE SULAIMON KOREDE\n",
    " \n",
    " \n",
    " "
   ]
  }
 ],
 "metadata": {
  "kernelspec": {
   "display_name": "Python 3",
   "language": "python",
   "name": "python3"
  },
  "language_info": {
   "codemirror_mode": {
    "name": "ipython",
    "version": 3
   },
   "file_extension": ".py",
   "mimetype": "text/x-python",
   "name": "python",
   "nbconvert_exporter": "python",
   "pygments_lexer": "ipython3",
   "version": "3.8.8"
  }
 },
 "nbformat": 4,
 "nbformat_minor": 5
}
