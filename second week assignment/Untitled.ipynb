{
 "cells": [
  {
   "cell_type": "code",
   "execution_count": 7,
   "id": "f7b9d02e",
   "metadata": {},
   "outputs": [
    {
     "data": {
      "text/plain": [
       "1000"
      ]
     },
     "execution_count": 7,
     "metadata": {},
     "output_type": "execute_result"
    }
   ],
   "source": [
    "#Queston 1 how to convert string 1000 to an integer.\n",
    "\n",
    "int(1000)"
   ]
  },
  {
   "cell_type": "code",
   "execution_count": 2,
   "id": "781c5545",
   "metadata": {},
   "outputs": [
    {
     "data": {
      "text/plain": [
       "3"
      ]
     },
     "execution_count": 2,
     "metadata": {},
     "output_type": "execute_result"
    }
   ],
   "source": [
    "#Question 2 how to convert floating number 3.764 to an integer\n",
    "\n",
    "int(3.764)"
   ]
  },
  {
   "cell_type": "code",
   "execution_count": 3,
   "id": "463f729f",
   "metadata": {},
   "outputs": [
    {
     "data": {
      "text/plain": [
       "'$99.45 Dollar'"
      ]
     },
     "execution_count": 3,
     "metadata": {},
     "output_type": "execute_result"
    }
   ],
   "source": [
    "#Question 3 In python program, business expenses represented by a floating number 99.45. \n",
    "Express his value as a string. However, i also want to add\n",
    "\n",
    "#a dollar sign in front of the amount a space and the word dollar at the end\n",
    "\n",
    "float_value=99.45\n",
    "array= ' Dollar'\n",
    "sign= '$'\n",
    "string_value=sign+str(float_value)+array\n",
    "string_value"
   ]
  },
  {
   "cell_type": "markdown",
   "id": "d6ec134a",
   "metadata": {},
   "source": [
    "Question 4 what does the type function do\n",
    "\n",
    "Type function is used to determine the type object that is passed into a parameter.\n",
    "it also returns a class type of argument of a object that is begin passed as prameters"
   ]
  },
  {
   "cell_type": "markdown",
   "id": "645af98c",
   "metadata": {},
   "source": [
    "Question 5 what is boolean? what are the two possible values.\n",
    "\n",
    "boolean in python is a data bool is used to store two values and the result of an expression whether is true or false.The two possible values are either True or false."
   ]
  },
  {
   "cell_type": "markdown",
   "id": "c649af29",
   "metadata": {},
   "source": [
    "Question 6 what is the technical name for % oprator? what does it do\n",
    "\n",
    "modulus and it is used to perform common mathmatical operations.\n"
   ]
  },
  {
   "cell_type": "code",
   "execution_count": 10,
   "id": "d7aa7628",
   "metadata": {},
   "outputs": [
    {
     "data": {
      "text/plain": [
       "'Ewetoye'"
      ]
     },
     "execution_count": 10,
     "metadata": {},
     "output_type": "execute_result"
    }
   ],
   "source": [
    "#Question 7 Declare a fancy_name variable and assign it a string with your name. \n",
    "#Then, invoke the print function and pass in fancy_name in between the parantheless. i.e print (fancy_name)\n",
    "\n",
    "fancy_name='Ewetoye'\n",
    "fancy_name\n",
    "'Ewetoye'"
   ]
  },
  {
   "cell_type": "code",
   "execution_count": 11,
   "id": "d2982bd4",
   "metadata": {},
   "outputs": [
    {
     "name": "stdout",
     "output_type": "stream",
     "text": [
      "number of hours40\n",
      "144000 seconds\n"
     ]
    }
   ],
   "source": [
    "#Question 8 Design a python program that converts time in hours to seconds. \n",
    "#the program should convert hours to seconds and print out a message in value. \n",
    "#i will be given two ways 40 and 41\n",
    "\n",
    "hours = 5\n",
    "seconds = hours * 60 *60\n",
    "seconds\n",
    "hours = int (input('number of hours'))\n",
    "seconds = hours * 60 * 60\n",
    "print(seconds,\"seconds\")"
   ]
  },
  {
   "cell_type": "code",
   "execution_count": null,
   "id": "1a8a61d2",
   "metadata": {},
   "outputs": [],
   "source": []
  }
 ],
 "metadata": {
  "kernelspec": {
   "display_name": "Python 3",
   "language": "python",
   "name": "python3"
  },
  "language_info": {
   "codemirror_mode": {
    "name": "ipython",
    "version": 3
   },
   "file_extension": ".py",
   "mimetype": "text/x-python",
   "name": "python",
   "nbconvert_exporter": "python",
   "pygments_lexer": "ipython3",
   "version": "3.8.8"
  }
 },
 "nbformat": 4,
 "nbformat_minor": 5
}
