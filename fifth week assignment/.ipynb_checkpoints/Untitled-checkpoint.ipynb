{
 "cells": [
  {
   "cell_type": "markdown",
   "id": "70f2b420",
   "metadata": {},
   "source": [
    "ASSIGNMENT\n",
    "Write a simple python program that\n",
    "1. create a file with name myfile\n",
    "2. open the file\n",
    "3. write multiplication table 2 into the file using \"loop\" and \"string formating\"\n",
    "e.g\n",
    "2x1 = 2\n",
    "2x2 = 4\n",
    ".\n",
    ".\n",
    "2x12 = 24\n",
    "4. read and print the content of the file\n",
    "5. close the file"
   ]
  },
  {
   "cell_type": "code",
   "execution_count": null,
   "id": "bc4c79a4",
   "metadata": {},
   "outputs": [],
   "source": [
    "n = int(2)\n",
    "\n",
    "# use for loop to iterate 12 times\n",
    "for i in range(1,13):\n",
    "   print(n,'x',i,'=',n*i)\n",
    "   "
   ]
  },
  {
   "cell_type": "code",
   "execution_count": null,
   "id": "e792aa09",
   "metadata": {},
   "outputs": [],
   "source": []
  },
  {
   "cell_type": "code",
   "execution_count": null,
   "id": "5ab651ea",
   "metadata": {},
   "outputs": [],
   "source": []
  }
 ],
 "metadata": {},
 "nbformat": 4,
 "nbformat_minor": 5
}
